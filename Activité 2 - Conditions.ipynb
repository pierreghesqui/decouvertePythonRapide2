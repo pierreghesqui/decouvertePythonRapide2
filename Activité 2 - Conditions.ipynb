{
 "cells": [
  {
   "cell_type": "markdown",
   "id": "03329ecc",
   "metadata": {},
   "source": [
    "# Activité 2- Dialoguer avec l'ordinateur\n",
    "😀 Bonjour ! Dans cette activité, nous allons coder un programme pour pouvoir discuter avec l'ordinateur"
   ]
  },
  {
   "cell_type": "markdown",
   "id": "5b7cedad",
   "metadata": {},
   "source": [
    "## Partie 1 : La fonction <code>input()</code>"
   ]
  },
  {
   "cell_type": "code",
   "execution_count": null,
   "id": "505efd22",
   "metadata": {},
   "outputs": [],
   "source": [
    "print(\"Bonjour Cunégonde !\" )\n",
    "print(\"Je suis un ordinateur et je suis ravi de te rencontrer\")"
   ]
  },
  {
   "cell_type": "markdown",
   "id": "bd4634e0",
   "metadata": {},
   "source": [
    "✍️ **Exécute le code ci-dessus** (rappel : pour exécuter un code, il faut cliquer dessus puis cliquer sur la flèche en haut de la page) <br>\n",
    "Tu remarques qu'il a  un problème. *A priori*, tu ne t'appelles pas Cunégonde ! Il faudrait que l'ordinateur commence par te demander ton nom. Regarde le code ci-dessous :"
   ]
  },
  {
   "cell_type": "code",
   "execution_count": null,
   "id": "d1866695",
   "metadata": {},
   "outputs": [],
   "source": [
    "prenom = input(\"Quel est ton prénom ? \")\n",
    "print(\"Bonjour\", prenom, \" ! \")\n",
    "print(\"Je suis un ordinateur et je suis ravi de te rencontrer\")"
   ]
  },
  {
   "cell_type": "markdown",
   "id": "f5a7ef89",
   "metadata": {},
   "source": [
    "✍️ **Exécute le code ci-dessus et tape ton prénom lorsque l'ordinateur te le demande.**<br>\n",
    "Tu remarques qu'à présent, l'ordinateur a remplacé \"Cunégonde\" par le prénom que tu as écris. <br>\n",
    "Réobserve attentivement le code :  \n",
    "```Python\n",
    "prenom = input(\"Quel est ton prénom ? \")\n",
    "print(\"Bonjour\", prenom, \" ! \")\n",
    "```\n",
    "Tu remarques que la fonction <code>input</code> a permis de stocker ton prénom dans une **variable** appelée <code>prenom</code>. <br>\n",
    "La **variable** <code>prenom</code> stocke la valeur du nom que tu as tapé. <br>\n",
    "✍️ **A présent, regarde attentivement puis exécute le code ci-dessous.**"
   ]
  },
  {
   "cell_type": "code",
   "execution_count": null,
   "id": "a2395f4e",
   "metadata": {},
   "outputs": [],
   "source": [
    "nom=input(\"Quel est ton prénom? \")\n",
    "print(\"Salutations\", nom, \"!\")\n",
    "nom=input(\"Quel est ton surnom ? \")\n",
    "print(\"Je vais donc t'appeller\",nom, \"...\")\n",
    "nom=input(\"Quel est le prénom que tu rêverais d'avoir ? \")\n",
    "print(\"Haha, c'est mignon\",nom,\"!\")"
   ]
  },
  {
   "cell_type": "markdown",
   "id": "24a220a4",
   "metadata": {},
   "source": [
    "🔎 **Remarque :** <br>\n",
    "\n",
    "Regarde encore attentivement le code ci-dessus.<br>\n",
    "Tu remarques que la **variable** <code>nom</code> **change de valeur** durant l'exécution de ton code: <br>\n",
    "- Au début, <code>nom</code> prend la valeur de ton prénom, <br>\n",
    "- ensuite, <code>nom</code> prend la valeur de ton surnom, <br>\n",
    "- enfin, <code>nom</code> prend la valeur du prénom que tu rêverais d'avoir.<br>\n",
    "\n",
    "C'est pour cela que <code>nom</code> est une **variable** car sa valeur change !\n"
   ]
  },
  {
   "cell_type": "markdown",
   "id": "428fae9a",
   "metadata": {},
   "source": [
    "✍️ **A présent, regarde attentivement puis exécute le code ci-dessous en repérant la variable :**"
   ]
  },
  {
   "cell_type": "code",
   "execution_count": null,
   "id": "c9687991",
   "metadata": {},
   "outputs": [],
   "source": [
    "age=input(\"Quel age as-tu? \")\n",
    "print(\"Tu as donc\", age, \"ans. \")\n",
    "age=input(\"Quel age a ton père? (si tu ne sais pas, invente !) \")\n",
    "print(\"Ton père a donc\", age, \"ans. Il est vieux ! Non, je plaisante.\")\n",
    "age=input(\"Quel est l'age de ta mère? \")\n",
    "print(\"Ta mère a donc\", age, \"ans.\")"
   ]
  },
  {
   "cell_type": "markdown",
   "id": "4c2c2e30",
   "metadata": {},
   "source": [
    "✍️ **À ton tour d'inventer un dialogue dans lequel l'ordinateur te demande: la ville où tu habites, puis la ville où tu es né, puis la ville où tu souhaiterais voyager !** Inspire toi des codes ci-dessus. "
   ]
  },
  {
   "cell_type": "code",
   "execution_count": null,
   "id": "9cc51892",
   "metadata": {},
   "outputs": [],
   "source": [
    "# Crée ci-dessous un dialogue dans lequel l'ordinateur te demande : la ville où tu habites, puis la ville où tu es né,\n",
    "# puis la ville où tu souhaiterais voyager ! Inspire toi des codes ci-dessus.\n",
    "\n",
    "\n",
    "\n",
    "\n"
   ]
  },
  {
   "cell_type": "markdown",
   "id": "afad56b9",
   "metadata": {},
   "source": [
    "🔎**Remarque : Les noms de variable qui font bugger l'ordi... 😈 <br>**\n",
    "\n",
    "Certains noms de variable ne sont pas acceptés par l'ordinateur :<br>\n",
    "1- Il est impossible de mettre des espaces dans le nom d'une variable<br>\n",
    "   *exemple :* La variable <code>nom et age</code> va faire bugger l'ordinateur. \n",
    "    Il faudrait écrire plutôt <code>nom_et_age</code> <br>\n",
    "2- Le nom d'une variable ne peut pas commencer par un chiffre : <br>\n",
    "    *exemple :* La variable <code>1nom</code> va faire bugger l'ordinateur.\n",
    "   "
   ]
  },
  {
   "cell_type": "markdown",
   "id": "13505573",
   "metadata": {},
   "source": [
    "## Partie 2 : Les conditions : <code> if, elif et else</code>"
   ]
  },
  {
   "cell_type": "markdown",
   "id": "b9c4273d",
   "metadata": {},
   "source": [
    "✍️**Exécute le code ci-dessous et essaie de répondre aux questions que te pose l'ordinateur**"
   ]
  },
  {
   "cell_type": "code",
   "execution_count": null,
   "id": "e644862c",
   "metadata": {},
   "outputs": [],
   "source": [
    "genre = input(\"Quel est ton genre: garçon, fille... ? \")\n",
    "if genre == \"fille\":\n",
    "    print(\"Tu dois adorer les barbies, n'est-ce pas ? Non je plaisante...\")\n",
    "elif genre == \"garçon\":\n",
    "    print(\"Tu dois adorer le foot, n'est-ce pas ? Non, c'est cliché.\")\n",
    "else : \n",
    "    print(\"Tu es non binaire ! Moi, mon code est écris en langage binaire : avec des 0 et des 1. XD\")    "
   ]
  },
  {
   "cell_type": "markdown",
   "id": "531dc8e2",
   "metadata": {},
   "source": [
    "Tu remarques que l'ordinateur s'adapte à la réponse que tu as écrite : <br>\n",
    "Pour cela on a utilisé dans le code la fonctionnalité <code> if, elif, else </code> : \n",
    "```Python\n",
    "if genre == \"fille\":\n",
    "    print(\"Tu dois adorer les barbies, n'est-ce pas ? ! Non, je plaisante...\")\n",
    "elif genre == \"garçon\":\n",
    "    print(\"Tu dois adorer le foot, n'est-ce pas ? ! Non, c'est cliché.\")\n",
    "else : \n",
    "    print(\"Tu es non binaire ! Moi, mon code est écris en langage binaire : avec des 0 et des 1. XD\")  \n",
    "```   \n",
    "Ca veut dire :<br>\n",
    "- **si** <code>genre</code> est égale à **\"fille\"** alors affiche la réponse **\"Tu dois adorer les barbies, n'est-ce pas ? Non, je plaisante.**\n",
    "- **si** <code>genre</code> est égale à **\"garçon\"** alors affiche la réponse **\"Tu dois adorer le foot, n'est-ce pas ? Non, c'est cliché.**\n",
    "- **sinon** affiche la réponse **\"Tu es non binaire ! etc...\"** \n",
    "\n"
   ]
  },
  {
   "cell_type": "markdown",
   "id": "cc907cf9",
   "metadata": {},
   "source": [
    "🔎**Remarque :** <br>\n",
    "- il y a toujours un **alinéa** en dessous des lignes if, elif et else. \n",
    "- A la fin des lignes **if, elif et else**, il y a toujours deux points \":\".\n",
    "- Tu peux ajouter pleins d'autres conditions. Regarde le code si dessous : \n",
    "```Python\n",
    "if genre == \"fille\":\n",
    "    print(\"Tu dois adorer les barbies, n'est-ce pas ? ! Non je plaisante...\")\n",
    "elif genre == \"garçon\":\n",
    "    print(\"Tu dois adorer le foot, n'est-ce pas ? ! Non, c'est cliché...\")\n",
    "elif genre == \"agenre\":\n",
    "    print(\"Tu es comme moi ! Les ordinateurs sont agenres.\")\n",
    "elif genre == \"cysgenre\" : \n",
    "    print(\"Oui mais cela ne me dit pas si tu es garçon ou fille...\") \n",
    "else : \n",
    "    print(\"Ravi de rencontrer une personne hors norme !\")\n",
    "```  \n",
    "- Le premier est toujours un \"if\", les autres sont des \"elif\". Tu remarques que le dernier est un \"else\" ce qui veut dire \"sinon\"."
   ]
  },
  {
   "cell_type": "markdown",
   "id": "9469f6df",
   "metadata": {},
   "source": [
    "✍️ **A toi de compléter le code suivant en ajoutant d'autres styles de musique (classique, jazz, rock, pop...)**"
   ]
  },
  {
   "cell_type": "code",
   "execution_count": null,
   "id": "13961c99",
   "metadata": {},
   "outputs": [],
   "source": [
    "# Complète le code ci-dessous avec d'autres genre de musique : \n",
    "musique = input(\"Quel est ton style de musique préféré ?\")\n",
    "if musique == \"rap\":\n",
    "    print(\"Super ! J'adore Mc Solaar\")\n",
    "    \n",
    "    \n",
    "    "
   ]
  },
  {
   "cell_type": "markdown",
   "id": "3088fb4e",
   "metadata": {},
   "source": [
    "### 💪Petit conseil ! 💪\n",
    "- Voici une possibilité pour que le code fonctionne même si l'utilisateur répond \"le rap\" au lieu de \"rap\":\n",
    "```Python\n",
    "if musique == \"rap\" or musique ==\"le rap\" or musique == \"Le Rap\":\n",
    "    print(\"Super ! J'adore Mc Solaar\")\n",
    "```\n",
    "Il suffit d'utiliser **\"or\"** ce qui veut dire **\"ou\"** en anglais."
   ]
  }
 ],
 "metadata": {
  "kernelspec": {
   "display_name": "Python 3 (ipykernel)",
   "language": "python",
   "name": "python3"
  },
  "language_info": {
   "codemirror_mode": {
    "name": "ipython",
    "version": 3
   },
   "file_extension": ".py",
   "mimetype": "text/x-python",
   "name": "python",
   "nbconvert_exporter": "python",
   "pygments_lexer": "ipython3",
   "version": "3.9.12"
  }
 },
 "nbformat": 4,
 "nbformat_minor": 5
}
