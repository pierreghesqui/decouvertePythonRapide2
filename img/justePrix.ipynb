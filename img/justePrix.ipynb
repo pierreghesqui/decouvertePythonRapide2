{
 "cells": [
  {
   "cell_type": "markdown",
   "id": "9fa05233",
   "metadata": {},
   "source": [
    "# Exercice 1  : Coder le juste prix"
   ]
  },
  {
   "cell_type": "markdown",
   "id": "99b44c8b",
   "metadata": {},
   "source": [
    "Le juste prix était un jeu télévisé ou le candidat devait deviner en 30s une somme d’argent choisie au hasard entre 10 000 et 50 000 euros.<br> Regardez la vidéo pour bien comprendre : \n",
    "[Clique ici pour regader la vidéo](https://www.youtube.com/watch?v=Vz0iUt2SpbI&ab_channel=AbrahamSimpson)\n"
   ]
  },
  {
   "cell_type": "markdown",
   "id": "7001cfe3",
   "metadata": {},
   "source": [
    "✍️Créer un programme qui choisit au hasard un chiffre entre 1 et 100 sans le dire au joueur. <br>\n",
    "Le joueur a 7 essais pour deviner le chiffre. Il fait des propositions à l’ordinateur.<br>\n",
    "A chaque proposition, l’ordinateur dit : “C’est plus” ou “C’est moins” en fonction de la réponse du joueur. <br>\n",
    "Si le joueur n’a pas trouvé le chiffre en 7 essais, l’ordinateur dit : “Vous avez perdu”.\n"
   ]
  },
  {
   "cell_type": "code",
   "execution_count": null,
   "id": "a7c252d6",
   "metadata": {},
   "outputs": [],
   "source": [
    "from random import randint #Cette ligne de code sert à importer la fonction randint permettant de tirer un nombre au hasard\n",
    "import times\n",
    "\n",
    "\n"
   ]
  }
 ],
 "metadata": {
  "kernelspec": {
   "display_name": "Python 3 (ipykernel)",
   "language": "python",
   "name": "python3"
  },
  "language_info": {
   "codemirror_mode": {
    "name": "ipython",
    "version": 3
   },
   "file_extension": ".py",
   "mimetype": "text/x-python",
   "name": "python",
   "nbconvert_exporter": "python",
   "pygments_lexer": "ipython3",
   "version": "3.9.12"
  }
 },
 "nbformat": 4,
 "nbformat_minor": 5
}
