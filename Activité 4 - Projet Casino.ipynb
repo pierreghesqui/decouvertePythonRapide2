{
 "cells": [
  {
   "cell_type": "markdown",
   "id": "9bfbc521",
   "metadata": {},
   "source": [
    "# Activité 4 : Projet - Coder une roulette de casino \n",
    "😀 Bonjour ! Dans cette activité, nous allons coder un célèbre jeu de casino : la roulette \n",
    "<img src=https://c.tenor.com/OZDk796N9WQAAAAC/buena-suerte-ruleta.gif width=\"300\">\n",
    "Dans le jeu de la roulette de casino, le joueur peut faire deux actions : \n",
    "- Soit, il parie sur un chiffre (entre 0 et 50). S'il gagne, il remporte 10 fois l'argent misé. \n",
    "- Soit, il parie sur une couleur (rouge ou noir). S'il gagne, il remporte 2 fois l'argent misé.<br>\n",
    "\n",
    "\n",
    "Pour faire cela, commençons par comprendre comment on code le hasard en Python."
   ]
  },
  {
   "cell_type": "markdown",
   "id": "248d3289",
   "metadata": {},
   "source": [
    "## Partie 1 : Coder le hasard\n",
    "Pour coder le hasard en pyton, nous allons utiliser l'extension random :<br>"
   ]
  },
  {
   "cell_type": "code",
   "execution_count": null,
   "id": "db5b896e",
   "metadata": {},
   "outputs": [],
   "source": [
    "from random import randint, choice"
   ]
  },
  {
   "cell_type": "markdown",
   "id": "6972cd6f",
   "metadata": {},
   "source": [
    "✍️**Exécute le code ci-dessus.** C'est normal que rien ne se passe. Cela permet juste à Python d'importer l'extension <code>random</code> qui veut dire \"hasard\" en anglais. Plus précisément, nous allons utiliser dans la suite de l'activité les fonctions <code> randint() </code> et <code> choice()</code>. \n",
    "### Fonction randint(a,b)\n",
    "La fonction <code> randint(a,b) </code>  permet de tirer au sort un nombre compris entre a et b. <br>\n",
    "✍️**Exécute plusieurs fois le code ci-dessous pour voir que le nombre tiré au sort change à chaque fois.** "
   ]
  },
  {
   "cell_type": "code",
   "execution_count": null,
   "id": "247b4cb1",
   "metadata": {},
   "outputs": [],
   "source": [
    "nombreTireAuSort = randint(1,100) #On tire au sort un nombre entre 1 et 100\n",
    "print(\"Le nombre tiré au sort est\", nombreTireAuSort)"
   ]
  },
  {
   "cell_type": "markdown",
   "id": "95050eb9",
   "metadata": {},
   "source": [
    "### Fonction choice()\n",
    "La fonction <code>choice</code> permet de tirer au sort un élément d'une liste.<br>\n",
    "Par exemple, le code ci-dessous a créé une liste d'animaux. La fonction random choisi au hasard un des animaux de la liste. <br>\n",
    "✍️**Exécute plusieurs fois le code ci-dessous pour voir que l'animal tiré au sort change à chaque fois.** "
   ]
  },
  {
   "cell_type": "code",
   "execution_count": null,
   "id": "84b3c1ce",
   "metadata": {},
   "outputs": [],
   "source": [
    "listeDanimaux = [\"chien\", \"chat\", \"requin\", \"poussin\", \"mouette\"] # Création d'une liste d'animaux\n",
    "animalTireAuSort = choice(listeDanimaux) # On tire au sort un animal de cette liste\n",
    "print(\"L'animal tiré au sort est :\",animalTireAuSort ) # On affiche l'animal tiré au sort"
   ]
  },
  {
   "cell_type": "markdown",
   "id": "a17c8d27",
   "metadata": {},
   "source": [
    "## Partie 2 : Coder la roulette de casino\n",
    "Rappel : Dans le jeu de la roulette de casino, le joueur peut faire deux actions :\n",
    "- Soit, il parie sur un chiffre (entre 0 et 50). S'il gagne, il remporte 10 fois l'argent misé.\n",
    "- Soit, il parie sur une couleur (rouge ou noir). S'il gagne, il remporte 2 fois l'argent misé.<br>\n",
    "\n",
    "\n",
    "✍️**Complète le code ci-dessous pour créer un jeu de roulette de casino**:\n",
    "- Il faut demander si le joueur veut parier sur un chiffre ou sur un nombre. \n",
    "- Il faut demander au joueur combien d'argent il veut miser\n",
    "- Si le joueur parie sur une couleur, il faudra tirer une couleur au hasard \n",
    "- Si le joueur parie sur un nombre, il faudra tirer un nombre au hasard\n",
    "- Il faut vérifier si le joueur gagne ou perd\n",
    "- Il faut dire si le joueur a gagné ou perdu et combien d'argent il gagne ou perd. "
   ]
  },
  {
   "cell_type": "code",
   "execution_count": null,
   "id": "90fde917",
   "metadata": {},
   "outputs": [],
   "source": [
    "# Code du jeu : roulette de casino\n",
    "print(\"Bienvenue au casino ! Vous allez devenir riche !\")\n",
    "reponse = input(\"Voulez-vous miser sur les nombres ou les couleurs ? (répondre soit 'nombres', soit 'couleurs')\")\n",
    "\n",
    "\n",
    "\n",
    "\n",
    "\n"
   ]
  }
 ],
 "metadata": {
  "kernelspec": {
   "display_name": "Python 3 (ipykernel)",
   "language": "python",
   "name": "python3"
  },
  "language_info": {
   "codemirror_mode": {
    "name": "ipython",
    "version": 3
   },
   "file_extension": ".py",
   "mimetype": "text/x-python",
   "name": "python",
   "nbconvert_exporter": "python",
   "pygments_lexer": "ipython3",
   "version": "3.9.12"
  }
 },
 "nbformat": 4,
 "nbformat_minor": 5
}
