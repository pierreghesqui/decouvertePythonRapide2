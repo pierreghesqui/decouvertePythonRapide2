{
 "cells": [
  {
   "cell_type": "markdown",
   "id": "03329ecc",
   "metadata": {},
   "source": [
    "# Activité 3- Dialoguer avec l'ordinateur\n",
    "😀 Bonjour ! Dans cette activité, nous allons coder un programme pour pouvoir discuter avec l'ordinateur"
   ]
  },
  {
   "cell_type": "markdown",
   "id": "5b7cedad",
   "metadata": {},
   "source": [
    "## Partie 1 : La fonction <code>input()</code>"
   ]
  },
  {
   "cell_type": "code",
   "execution_count": null,
   "id": "505efd22",
   "metadata": {},
   "outputs": [],
   "source": [
    "print(\"Bonjour Cunégonde !\" )\n",
    "print(\"Je suis un ordinateur et je suis ravi de te rencontrer\")"
   ]
  },
  {
   "cell_type": "markdown",
   "id": "bd4634e0",
   "metadata": {},
   "source": [
    "✍️ **Exécute le code ci-dessus** (rappel : pour exécuter un code, il faut cliquer dessus puis cliquer sur la flèche en haut de la page) <br>\n",
    "Tu remarques qu'il a  un problème. *A priori*, tu ne t'appelles pas Cunégonde ! Il faudrait que l'ordinateur commence par te demander ton nom. Regarde le code ci-dessous."
   ]
  },
  {
   "cell_type": "code",
   "execution_count": 1,
   "id": "d1866695",
   "metadata": {},
   "outputs": [
    {
     "name": "stdout",
     "output_type": "stream",
     "text": [
      "Quel est ton prénom ? kilku\n",
      "Bonjour kilku  ! \n",
      "Je suis un ordinateur et je suis ravi de te rencontrer\n"
     ]
    }
   ],
   "source": [
    "prenom = input(\"Quel est ton prénom ? \")\n",
    "print(\"Bonjour\", prenom, \" ! \")\n",
    "print(\"Je suis un ordinateur et je suis ravi de te rencontrer\")"
   ]
  },
  {
   "cell_type": "markdown",
   "id": "f5a7ef89",
   "metadata": {},
   "source": [
    "✍️ **Exécute le code ci-dessus et tape ton prénom lorsque l'ordinateur te le demande.**<br>\n",
    "Tu remarques qu'à présent, l'ordinateur a remplacé \"Cunégonde\" par le prénom que tu as écris. <br>\n",
    "Réobserve attentivement le code :  \n",
    "```Python\n",
    "prenom = input(\"Quel est ton prénom ? \")\n",
    "print(\"Bonjour\", prenom, \" ! \")\n",
    "```\n",
    "Tu remarques que la fonction <code>input</code> a permis de stocker ton prénom dans une **variable** appelée <code>prenom</code>. <br>\n",
    "La **variable** <code>prenom</code> stocke la valeur du nom que tu as tapé. <br>\n",
    "✍️ **A présent, regarde attentivement puis exécute le code ci-dessous.**"
   ]
  },
  {
   "cell_type": "code",
   "execution_count": 2,
   "id": "a2395f4e",
   "metadata": {},
   "outputs": [
    {
     "name": "stdout",
     "output_type": "stream",
     "text": [
      "Quel est ton prénom ? ukkyhgf\n",
      "Bonjour ukkyhgf  ! C'est beau comme prénom .\n",
      "Quel âge as-tu?ui\n",
      "Tu as  ui ans ! Tu es jeune ukkyhgf  ! \n",
      "Dans quelle ville habites-tu ? ;,nb\n",
      "Moi aussi j'habite à ;,nb . C'est une jolie ville\n"
     ]
    }
   ],
   "source": [
    "prenom = input(\"Quel est ton prénom ? \")\n",
    "print(\"Bonjour\", prenom, \" ! C'est beau comme prénom .\")\n",
    "age = input(\"Quel âge as-tu?\")\n",
    "print(\"Tu as \",age, \"ans ! Tu es jeune\", prenom, \" ! \")\n",
    "ville = input(\"Dans quelle ville habites-tu ? \")\n",
    "print(\"Moi aussi j'habite à\",ville, \". C'est une jolie ville\")"
   ]
  },
  {
   "cell_type": "markdown",
   "id": "4c2c2e30",
   "metadata": {},
   "source": [
    "✍️ **A présent, a toi de créer le dialogue que tu veux dans la cellule ci-dessous.** L'ordinateur peut par exemple te demander quel est ton film préféré, quel musique tu écoutes..."
   ]
  },
  {
   "cell_type": "code",
   "execution_count": null,
   "id": "9cc51892",
   "metadata": {},
   "outputs": [],
   "source": [
    "# Crée ci-dessous le dialogue que tu veux avec les fonctions input et print : \n",
    "\n",
    "\n"
   ]
  },
  {
   "cell_type": "markdown",
   "id": "13505573",
   "metadata": {},
   "source": [
    "## Partie 2 : Les conditions : <code> if, elif et else</code>"
   ]
  },
  {
   "cell_type": "markdown",
   "id": "b9c4273d",
   "metadata": {},
   "source": [
    "✍️**Exécute le code ci-dessous et essaie de répondre aux questions que te pose l'ordinateur**"
   ]
  },
  {
   "cell_type": "code",
   "execution_count": null,
   "id": "e644862c",
   "metadata": {},
   "outputs": [],
   "source": [
    "genre = input(\"Quel est ton genre: garçon, fille... ? \")\n",
    "if genre == \"fille\":\n",
    "    print(\"Tu dois adorer les barbies alors ! Non je plaisante...\")\n",
    "elif genre == \"garçon\":\n",
    "    print(\"Tu dois adorer le foot alors ! Non, c'est cliché.\")\n",
    "else : \n",
    "    print(\"Tu es non binaire ! Moi, mon code est écris en langage binaire : avec des 0 et des 1. XD\")    "
   ]
  },
  {
   "cell_type": "markdown",
   "id": "531dc8e2",
   "metadata": {},
   "source": [
    "Tu remarques que l'ordinateur s'adapte à la réponse que tu as écrite : <br>\n",
    "Pour cela on a utilisé dans le code la fonctionnalité <code> if, elif, else </code> : \n",
    "```Python\n",
    "if genre == \"fille\":\n",
    "    print(\"Tu dois adorer les barbies alors ! Non je plaisante...\")\n",
    "elif genre == \"garçon\":\n",
    "    print(\"Tu dois adorer le foot alors ! Non, c'est cliché.\")\n",
    "else : \n",
    "    print(\"Tu es non binaire ! Moi, mon code est écris en langage binaire : avec des 0 et des 1. XD\")  \n",
    "```   \n",
    "Ca veut dire :<br>\n",
    "- **si** <code>genre</code> est égale à **\"fille\"** alors affiche la réponse **\"Tu dois adorer les barbies alors !**\n",
    "- **si** <code>genre</code> est égale à **\"garçon\"** alors affiche la réponse **\"Tu dois adorer le foot alors !**\n",
    "- **sinon** affiche la réponse **\"Tu es non binaire !\"** \n",
    "\n"
   ]
  },
  {
   "cell_type": "markdown",
   "id": "cc907cf9",
   "metadata": {},
   "source": [
    "**Remarque :** <br>\n",
    "- il y a toujours un **alinéa** en dessous des lignes if, elif et else. \n",
    "- A la fin des lignes **if, elif et else**, il y a toujours deux points \":\".\n",
    "- Tu peux ajouter pleins d'autres conditions. Regarde le code si dessous : \n",
    "```Python\n",
    "if genre == \"fille\":\n",
    "    print(\"Tu dois adorer les barbies alors ! Non je plaisante...\")\n",
    "elif genre == \"garçon\":\n",
    "    print(\"Tu dois adorer le foot alors ! Non, c'est cliché.\")\n",
    "elif genre == \"agenre\":\n",
    "    print(\"Tu es comme moi alors ! Les ordinateurs sont agenres.\")\n",
    "elif genre == \"cysgenre\" : \n",
    "    print(\"Oui mais cela ne me dit pas si tu es garçon ou fille...\") \n",
    "else : \n",
    "    print(\"Ravi de rencontrer une personne hors norme !\")\n",
    "```  \n",
    "- Le premier est toujours un \"if\", les autres sont des \"elif\". Tu remarques que le dernier est un \"else\" ce qui veut dire \"sinon\"."
   ]
  },
  {
   "cell_type": "markdown",
   "id": "9469f6df",
   "metadata": {},
   "source": [
    "✍️ **A toi de compléter le code suivant pour pouvoir proposer une réponse adaptée à ton interlocuteur**"
   ]
  },
  {
   "cell_type": "code",
   "execution_count": null,
   "id": "13961c99",
   "metadata": {},
   "outputs": [],
   "source": [
    "# Complète le code ci-dessous avec d'autres genre de musique : \n",
    "musique = input(\"Quel est ton style de musique préféré ?\")\n",
    "if musique == \"rap\":\n",
    "    print(\"Super ! J'adore Mc Solaar\")\n",
    "    \n",
    "    \n",
    "    "
   ]
  },
  {
   "cell_type": "markdown",
   "id": "3088fb4e",
   "metadata": {},
   "source": [
    "### Petit conseil ! \n",
    "- Voici une possibilité pour que le code fonctionne même si l'utilisateur répond \"le rap\" au lieu de \"rap\":\n",
    "```Python\n",
    "if musique == \"rap\" or musique ==\"le rap\" or musique == \"Le Rap\":\n",
    "    print(\"Super ! J'adore Mc Solaar\")\n",
    "```\n",
    "Il suffit d'utiliser **\"or\"** ce qui veut dire **\"ou\"** en anglais."
   ]
  }
 ],
 "metadata": {
  "kernelspec": {
   "display_name": "Python 3 (ipykernel)",
   "language": "python",
   "name": "python3"
  },
  "language_info": {
   "codemirror_mode": {
    "name": "ipython",
    "version": 3
   },
   "file_extension": ".py",
   "mimetype": "text/x-python",
   "name": "python",
   "nbconvert_exporter": "python",
   "pygments_lexer": "ipython3",
   "version": "3.9.12"
  }
 },
 "nbformat": 4,
 "nbformat_minor": 5
}
