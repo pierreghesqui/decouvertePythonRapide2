{
 "cells": [
  {
   "cell_type": "markdown",
   "id": "47803a37",
   "metadata": {},
   "source": [
    "# Activité 5 : Coder un Pierre-Feuille-Ciseau\n",
    "😀 Bonjour ! Dans cette activité, nous allons coder le jeu du \"Pierre Feuille Ciseau\"  \n",
    "<img src=https://c.tenor.com/Fv3nzmI1a-4AAAAi/schnickschnackschnuck-zingzangzong.gif width=\"250\">\n"
   ]
  },
  {
   "cell_type": "markdown",
   "id": "99977110",
   "metadata": {},
   "source": [
    "## Rappel : Coder le hasard\n",
    "Pour coder le hasard, il faut commencer par importer dans ton code la fonction <code>choice</code> en écrivant :\n",
    "```Python \n",
    "from random import choice\n",
    "```\n",
    "Cette ligne de code va nous permettre d'utiliser la fonction <code>choice</code> permettant de tirer au sort un élément d'une liste. <br>\n",
    "✍️**Exécute plusieurs fois le code ci-dessous pour voir comment fonctionne la fonction <code>choice</code>.** "
   ]
  },
  {
   "cell_type": "code",
   "execution_count": null,
   "id": "c207952d",
   "metadata": {},
   "outputs": [],
   "source": [
    "from random import choice #Importation de la fonction choice\n",
    "listeDanimaux = [\"chien\", \"chat\", \"requin\", \"poussin\", \"mouette\"] # Création d'une liste d'animaux\n",
    "animalTireAuSort = choice(listeDanimaux) # On tire au sort un animal de cette liste\n",
    "print(\"L'animal tiré au sort est :\",animalTireAuSort ) # On affiche l'animal tiré au sort"
   ]
  },
  {
   "cell_type": "markdown",
   "id": "b31aff08",
   "metadata": {},
   "source": [
    "## Coder un Pierre, Feuille, Ciseau\n",
    "A présent, à toi de coder le pierre feuille ciseau : \n",
    "- L'ordinateur te demandera ce que tu choisis: soit pierre, soit feuille, soit ciseau.\n",
    "- Ensuite l'ordinateur choisit lui même au hasard soit pierre, soit feuille, soit ciseau.\n",
    "- Ensuite, il faut vérifier qui a gagné ou perdu et afficher le résultat."
   ]
  },
  {
   "cell_type": "code",
   "execution_count": null,
   "id": "63871a67",
   "metadata": {},
   "outputs": [],
   "source": [
    "# Code ci-dessous le jeu du \"Pierre, Feuille, Ciseau\" (n'oublie pas de commencer par importer la fonction \"choice\" ! )\n",
    "\n",
    "\n",
    "\n",
    "\n",
    "\n",
    "\n",
    "\n",
    "\n",
    "\n",
    "\n",
    "\n"
   ]
  }
 ],
 "metadata": {
  "kernelspec": {
   "display_name": "Python 3 (ipykernel)",
   "language": "python",
   "name": "python3"
  },
  "language_info": {
   "codemirror_mode": {
    "name": "ipython",
    "version": 3
   },
   "file_extension": ".py",
   "mimetype": "text/x-python",
   "name": "python",
   "nbconvert_exporter": "python",
   "pygments_lexer": "ipython3",
   "version": "3.9.12"
  }
 },
 "nbformat": 4,
 "nbformat_minor": 5
}
