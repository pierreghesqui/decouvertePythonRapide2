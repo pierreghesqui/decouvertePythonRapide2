{
 "cells": [
  {
   "cell_type": "markdown",
   "id": "598cd31c",
   "metadata": {},
   "source": [
    "# Activité 3 - Manipulation de chiffres\n",
    "😀 Bonjour ! Dans cette activité, nous allons apprendre à faire des calculs en Python."
   ]
  },
  {
   "cell_type": "markdown",
   "id": "733867b6",
   "metadata": {},
   "source": [
    "# Partie 1: Faire des calculs en Python : \n",
    "En Python les calculs sont très simples à faire : \n",
    "- Addition : \n",
    "```Python\n",
    "print(1+10)\n",
    "```\n",
    "- Soustraction : \n",
    "```Python\n",
    "print(10-5)\n",
    "```\n",
    "- Multiplication : \n",
    "```Python\n",
    "print(3*5)\n",
    "```\n",
    "- Division \n",
    "```Python\n",
    "print(10/2)\n",
    "```\n",
    "✍️**Amuse toi ci-dessous à tester les différentes opérations (addition, soustraction, multiplication et division)** <br>\n"
   ]
  },
  {
   "cell_type": "code",
   "execution_count": null,
   "id": "6eb5e51e",
   "metadata": {},
   "outputs": [],
   "source": [
    "#Teste les différentes opérations avec des nombres entiers : \n",
    "\n",
    "\n",
    "\n"
   ]
  },
  {
   "cell_type": "markdown",
   "id": "9488fd30",
   "metadata": {},
   "source": [
    "### Remarque sur les nombres à virgules  : \n",
    "En Python, les nombres à virgule s'écrivent avec des points sinon le programme plante. *Exemple  : 1,5 s'écrit 1.5*"
   ]
  },
  {
   "cell_type": "markdown",
   "id": "ea65800f",
   "metadata": {},
   "source": [
    "✍️**Essaie de faire des opérations avec des nombres à virgules (voir la remarque ci-dessus)**"
   ]
  },
  {
   "cell_type": "code",
   "execution_count": null,
   "id": "2da4c4ab",
   "metadata": {},
   "outputs": [],
   "source": [
    "#Teste les différentes opérations avec des nombres à virgules : \n",
    "\n"
   ]
  },
  {
   "cell_type": "markdown",
   "id": "a90f6633",
   "metadata": {},
   "source": [
    "## Partie 2 : Utiliser des variables pour faire des calculs\n",
    "Nous avons vu dans l'activité précédente qu'il était possible de dialoguer avec l'ordinateur en utilisant la fonction <code> input</code>. Par exemple : \n",
    "```Python\n",
    "age = input(\"quel est ton âge ?\")\n",
    "print(\"Tu as \", age, \"an.\")\n",
    "```\n",
    "\n",
    "En réalité, la fonction <code>input</code> ne fonctionne pas très bien avec les nombres car il est impossible ensuite de faire des calculs. En effet, Python considère que la fonction  <code>input()</code>  sert uniquement à demander du texte à l'utilisateur et non pas des nombres. <br>\n",
    "\n",
    "Pour résoudre ce problème, on utilise la fonction <code> float() </code> qui convertit du texte en nombre. <br> \n",
    "Exemple : \n",
    "```Python\n",
    "age = float(input(\"quel est ton âge ?\"))\n",
    "print(\"L'année prochaine, tu auras \", age+1, \"an.\")\n",
    "```\n",
    "Remarque bien les parenthèses ci-dessus. <code>input(\"quel est ton âge ?\")</code> est contenu dans les parenthèses de la fonction <code>float(....)</code>"
   ]
  },
  {
   "cell_type": "markdown",
   "id": "1b9fc3c9",
   "metadata": {},
   "source": [
    "✍️**Ci-dessous, créé un code qui demande la masse de l'utilisateur et qui lui affiche le nombre de kilo qu'il lui manque pour atteindre 100 kg**"
   ]
  },
  {
   "cell_type": "code",
   "execution_count": null,
   "id": "86ecc4db",
   "metadata": {},
   "outputs": [],
   "source": [
    "#Code à compléter: \n",
    "masse = \n",
    "print()\n"
   ]
  },
  {
   "cell_type": "markdown",
   "id": "7d6f217b",
   "metadata": {},
   "source": [
    "### Exercice : Calcul de ton IMC : \n",
    "L'**IMC** (Indice de Masse Corporelle) est un nombre pour estimer la corpulence d'une personne. Plus l’IMC est faible, plus la personne est mince, plus l’IMC est grand, plus la personne est corpulente. Une personne en bonne santé a un IMC compris entre 18.5 et 24.9.\n",
    "La formule pour calculer l'IMC est  : <center>$IMC = \\frac {masse}{taille\\times taille}$</center>\n",
    "Dans cette formule, la masse est en kg et la taille en m. <br>\n",
    "✍️**Ecris un programme qui te demande ta masse puis ta taille et qui calcule ton IMC**"
   ]
  },
  {
   "cell_type": "code",
   "execution_count": null,
   "id": "c841e856",
   "metadata": {},
   "outputs": [],
   "source": [
    "# Programme qui calcule ton IMC : \n",
    "\n",
    "\n",
    "\n"
   ]
  },
  {
   "cell_type": "markdown",
   "id": "71117be8",
   "metadata": {},
   "source": [
    "## Partie 3 : Utiliser les conditions sur les nombres\n"
   ]
  },
  {
   "cell_type": "markdown",
   "id": "503c0ed4",
   "metadata": {},
   "source": [
    "Dans l'activité précédente, nous avons vu qu'il était possible d'utiliser <code> if, elif, else </code> pour écrire des conditions. Avec les nombres, on peut aller beaucoup plus loin : <br>\n",
    "```Python\n",
    "age = float(input(\"Quel est ton âge\"))\n",
    "if age == 18:\n",
    "    print(\"Tu es tout juste majeur ! Ca se fête\")\n",
    "```\n",
    "Tu remarques qu'on a utilisé <code>==</code> pour tester si age était égal à 18. <br>\n",
    "Voici comment on code les autres symboles de comparaison en Python : <br>\n",
    "- $\\le$  :  s'écrit  <= \n",
    "- $\\ge$ s'écrit  >= \n",
    "- $<$ s'écrit   <  \n",
    "- $>$ s'écrit  >"
   ]
  },
  {
   "cell_type": "markdown",
   "id": "3e7cb9a5",
   "metadata": {},
   "source": [
    "Par exemple : \n",
    "```Python\n",
    "if age >= 18 : \n",
    "   print(“Vous êtes majeur !”)\n",
    "elif 4<age<18:\n",
    "   print(“Tu as entre 5 et 17 ans”)\n",
    "else :\n",
    "   print(“Aga gaa aga gaaa”) #Langage bébé, vous pouvez pas comprendre\n",
    "```"
   ]
  },
  {
   "cell_type": "markdown",
   "id": "ce8dbc59",
   "metadata": {},
   "source": [
    "✍️ **Crée un programme pas très gentil 😈 qui calcule ton IMC puis qui te dise si tu es en bonne santé ou s'il faudrait que tu prennes du poids ou que s'il faudrait que tu maigrisses.** <br>\n",
    "\n",
    "*Remarque* : Sur ton clavier pour taper le symbole \"<\" : Il faut appuyer en même temps sur la touche **Fn** (en bas à gauche) et sur la touche **w**.  "
   ]
  },
  {
   "cell_type": "code",
   "execution_count": null,
   "id": "1d6a4fd1",
   "metadata": {},
   "outputs": [],
   "source": [
    "#Créé ce programme ci -dessous : \n",
    "\n",
    "\n",
    "\n"
   ]
  }
 ],
 "metadata": {
  "kernelspec": {
   "display_name": "Python 3 (ipykernel)",
   "language": "python",
   "name": "python3"
  },
  "language_info": {
   "codemirror_mode": {
    "name": "ipython",
    "version": 3
   },
   "file_extension": ".py",
   "mimetype": "text/x-python",
   "name": "python",
   "nbconvert_exporter": "python",
   "pygments_lexer": "ipython3",
   "version": "3.9.12"
  }
 },
 "nbformat": 4,
 "nbformat_minor": 5
}
